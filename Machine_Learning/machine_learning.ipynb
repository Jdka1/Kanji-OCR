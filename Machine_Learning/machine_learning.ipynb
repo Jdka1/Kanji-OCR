{
 "cells": [
  {
   "cell_type": "code",
   "execution_count": 3,
   "metadata": {},
   "outputs": [
    {
     "name": "stderr",
     "output_type": "stream",
     "text": [
      "/Users/arymehr/Library/Python/3.9/lib/python/site-packages/torchvision/io/image.py:13: UserWarning: Failed to load image Python extension: 'dlopen(/Users/arymehr/Library/Python/3.9/lib/python/site-packages/torchvision/image.so, 0x0006): Symbol not found: __ZN3c106detail19maybe_wrap_dim_slowIxEET_S2_S2_b\n",
      "  Referenced from: /Users/arymehr/Library/Python/3.9/lib/python/site-packages/torchvision/image.so\n",
      "  Expected in: /Users/arymehr/Library/Python/3.9/lib/python/site-packages/torch/lib/libc10.dylib'If you don't plan on using image functionality from `torchvision.io`, you can ignore this warning. Otherwise, there might be something wrong with your environment. Did you have `libjpeg` or `libpng` installed before building `torchvision` from source?\n",
      "  warn(\n"
     ]
    }
   ],
   "source": [
    "from PIL import Image\n",
    "import os\n",
    "import numpy as np\n",
    "import PIL.ImageOps\n",
    "import torch\n",
    "import matplotlib.pyplot as plt\n",
    "import torch.nn as nn\n",
    "import torchvision\n",
    "import itertools\n",
    "from architecture import Network"
   ]
  },
  {
   "cell_type": "code",
   "execution_count": 4,
   "metadata": {},
   "outputs": [],
   "source": [
    "num_samples_each_img = 3"
   ]
  },
  {
   "cell_type": "code",
   "execution_count": 5,
   "metadata": {},
   "outputs": [],
   "source": [
    "imgs = []\n",
    "for file in os.listdir('data'):\n",
    "    with Image.open('data/' + file).convert('L') as img:\n",
    "        img = img.resize((64,64))\n",
    "        img = PIL.ImageOps.invert(img)\n",
    "        for i in range(num_samples_each_img):\n",
    "            imgs.append(np.array([np.array(img)]))"
   ]
  },
  {
   "cell_type": "code",
   "execution_count": 6,
   "metadata": {},
   "outputs": [
    {
     "name": "stdout",
     "output_type": "stream",
     "text": [
      "num images: 30\n"
     ]
    }
   ],
   "source": [
    "# num_samples = len(imgs)\n",
    "num_samples = 10\n",
    "imgs = imgs[:num_samples*num_samples_each_img]\n",
    "print(f\"num images: {num_samples*num_samples_each_img}\")"
   ]
  },
  {
   "cell_type": "code",
   "execution_count": 7,
   "metadata": {},
   "outputs": [
    {
     "name": "stderr",
     "output_type": "stream",
     "text": [
      "/var/folders/06/kvt42vp15b106w3b8f5s1k540000gn/T/ipykernel_69464/3805940749.py:1: UserWarning: Creating a tensor from a list of numpy.ndarrays is extremely slow. Please consider converting the list to a single numpy.ndarray with numpy.array() before converting to a tensor. (Triggered internally at /Users/runner/work/pytorch/pytorch/pytorch/torch/csrc/utils/tensor_new.cpp:233.)\n",
      "  imgs = torch.FloatTensor(imgs)\n"
     ]
    }
   ],
   "source": [
    "imgs = torch.FloatTensor(imgs)"
   ]
  },
  {
   "cell_type": "code",
   "execution_count": 8,
   "metadata": {},
   "outputs": [],
   "source": [
    "random_perspective = torchvision.transforms.RandomPerspective(0.3, 0.7)\n",
    "random_rotation = torchvision.transforms.RandomRotation(5)\n",
    "for i in range(imgs.shape[0]):\n",
    "    imgs[i] = random_rotation(random_perspective(imgs[i]))"
   ]
  },
  {
   "cell_type": "code",
   "execution_count": 9,
   "metadata": {},
   "outputs": [],
   "source": [
    "x = torch.clone(imgs)\n",
    "x = x.apply_(lambda x: 1 if x > 100 else -1)"
   ]
  },
  {
   "cell_type": "code",
   "execution_count": 10,
   "metadata": {},
   "outputs": [
    {
     "data": {
      "text/plain": [
       "<matplotlib.image.AxesImage at 0x131b8ddc0>"
      ]
     },
     "execution_count": 10,
     "metadata": {},
     "output_type": "execute_result"
    },
    {
     "data": {
      "image/png": "[encoded data removed]",
      "text/plain": [
       "<Figure size 640x480 with 1 Axes>"
      ]
     },
     "metadata": {},
     "output_type": "display_data"
    }
   ],
   "source": [
    "plt.imshow(x[0].swapaxes(2, 0).swapaxes(0, 1))"
   ]
  },
  {
   "cell_type": "code",
   "execution_count": 11,
   "metadata": {},
   "outputs": [
    {
     "data": {
      "text/plain": [
       "['茗', '謂', '賎', '鬨', '鍼', '弃', '僚', '圖', '怦', '羔']"
      ]
     },
     "execution_count": 11,
     "metadata": {},
     "output_type": "execute_result"
    }
   ],
   "source": [
    "kanjis = os.listdir('data')[:num_samples]\n",
    "kanjis = list(map(lambda x: x[:-4], kanjis))\n",
    "kanji_dict = { i: kanji for (i, kanji) in enumerate(kanjis) }\n",
    "y = [[i] * num_samples_each_img for i in list(kanji_dict.keys())]\n",
    "y = list(itertools.chain.from_iterable(y))\n",
    "y = torch.LongTensor(y)\n",
    "kanjis"
   ]
  },
  {
   "cell_type": "code",
   "execution_count": 12,
   "metadata": {},
   "outputs": [
    {
     "data": {
      "text/plain": [
       "(torch.Size([30, 1, 64, 64]), torch.Size([30]))"
      ]
     },
     "execution_count": 12,
     "metadata": {},
     "output_type": "execute_result"
    }
   ],
   "source": [
    "x.shape, y.shape"
   ]
  },
  {
   "cell_type": "code",
   "execution_count": 13,
   "metadata": {},
   "outputs": [],
   "source": [
    "# x_train = x.view(num_samples, -1)\n",
    "x_train = x"
   ]
  },
  {
   "cell_type": "code",
   "execution_count": 14,
   "metadata": {},
   "outputs": [
    {
     "data": {
      "text/plain": [
       "549382"
      ]
     },
     "execution_count": 14,
     "metadata": {},
     "output_type": "execute_result"
    }
   ],
   "source": [
    "model = Network(len_kanji_dict=len(kanji_dict))\n",
    "sum(p.numel() for p in model.parameters())"
   ]
  },
  {
   "cell_type": "code",
   "execution_count": 22,
   "metadata": {},
   "outputs": [
    {
     "name": "stdout",
     "output_type": "stream",
     "text": [
      "epoch 19/20 loss: 1.4612088203430176  |  accuracy: 100.0%                                                               \r"
     ]
    }
   ],
   "source": [
    "learning_rate = 0.0005\n",
    "num_epochs = 20\n",
    "\n",
    "criterion = nn.CrossEntropyLoss()\n",
    "optimizer = torch.optim.Adam(model.parameters(), lr=learning_rate)\n",
    "\n",
    "train_loss = []\n",
    "for epoch in range(num_epochs):\n",
    "  output = model(x_train)\n",
    "  loss = criterion(output, y)\n",
    "  train_loss.append(loss.item())\n",
    "  loss.backward()\n",
    "  optimizer.step()\n",
    "  optimizer.zero_grad()\n",
    "  predictions = torch.argmax(output, dim=1)\n",
    "  accuracy = 100 * torch.sum(y == predictions) / len(y)\n",
    "  print(f'epoch {epoch}/{num_epochs} loss: {loss.item()}  |  accuracy: {torch.round(accuracy, decimals=5)}%                                                   ', end='\\r')"
   ]
  },
  {
   "cell_type": "code",
   "execution_count": 23,
   "metadata": {},
   "outputs": [
    {
     "data": {
      "text/plain": [
       "[<matplotlib.lines.Line2D at 0x135937280>]"
      ]
     },
     "execution_count": 23,
     "metadata": {},
     "output_type": "execute_result"
    },
    {
     "data": {
      "image/png": "[encoded data removed]",
      "text/plain": [
       "<Figure size 640x480 with 1 Axes>"
      ]
     },
     "metadata": {},
     "output_type": "display_data"
    }
   ],
   "source": [
    "plt.plot(range(len(train_loss)), train_loss)"
   ]
  },
  {
   "cell_type": "code",
   "execution_count": 24,
   "metadata": {},
   "outputs": [],
   "source": [
    "torch.save(model.state_dict(), 'model.pth')"
   ]
  },
  {
   "cell_type": "code",
   "execution_count": 25,
   "metadata": {},
   "outputs": [
    {
     "data": {
      "text/plain": [
       "Network(\n",
       "  (conv_layers): Sequential(\n",
       "    (0): Conv2d(1, 16, kernel_size=(3, 3), stride=(1, 1), padding=(1, 1))\n",
       "    (1): BatchNorm2d(16, eps=1e-05, momentum=0.1, affine=True, track_running_stats=True)\n",
       "    (2): Dropout2d(p=0.25, inplace=False)\n",
       "    (3): Conv2d(16, 32, kernel_size=(3, 3), stride=(1, 1), padding=(1, 1))\n",
       "    (4): BatchNorm2d(32, eps=1e-05, momentum=0.1, affine=True, track_running_stats=True)\n",
       "    (5): Dropout2d(p=0.25, inplace=False)\n",
       "    (6): Conv2d(32, 32, kernel_size=(3, 3), stride=(1, 1), padding=(1, 1))\n",
       "    (7): BatchNorm2d(32, eps=1e-05, momentum=0.1, affine=True, track_running_stats=True)\n",
       "    (8): MaxPool2d(kernel_size=2, stride=2, padding=0, dilation=1, ceil_mode=False)\n",
       "    (9): Conv2d(32, 16, kernel_size=(3, 3), stride=(1, 1), padding=(1, 1))\n",
       "    (10): BatchNorm2d(16, eps=1e-05, momentum=0.1, affine=True, track_running_stats=True)\n",
       "    (11): Dropout2d(p=0.25, inplace=False)\n",
       "    (12): Conv2d(16, 4, kernel_size=(3, 3), stride=(1, 1), padding=(1, 1))\n",
       "    (13): BatchNorm2d(4, eps=1e-05, momentum=0.1, affine=True, track_running_stats=True)\n",
       "    (14): MaxPool2d(kernel_size=2, stride=2, padding=0, dilation=1, ceil_mode=False)\n",
       "  )\n",
       "  (linear_layers): Sequential(\n",
       "    (0): Linear(in_features=1024, out_features=512, bias=True)\n",
       "    (1): Dropout(p=0.5, inplace=False)\n",
       "    (2): Linear(in_features=512, out_features=10, bias=True)\n",
       "    (3): Softmax(dim=1)\n",
       "  )\n",
       ")"
      ]
     },
     "execution_count": 25,
     "metadata": {},
     "output_type": "execute_result"
    }
   ],
   "source": [
    "model = Network(len_kanji_dict=len(kanji_dict))\n",
    "model.load_state_dict(torch.load('model.pth'))\n",
    "model.eval()"
   ]
  },
  {
   "cell_type": "code",
   "execution_count": 26,
   "metadata": {},
   "outputs": [
    {
     "name": "stdout",
     "output_type": "stream",
     "text": [
      "Accuracy: 100.0%\n"
     ]
    }
   ],
   "source": [
    "predictions = model(x_train)\n",
    "predictions = torch.argmax(predictions, dim=1)\n",
    "accuracy = 100 * torch.sum(y == predictions) / len(y)\n",
    "print(f'Accuracy: {torch.round(accuracy, decimals=5)}%')"
   ]
  },
  {
   "cell_type": "code",
   "execution_count": 27,
   "metadata": {},
   "outputs": [
    {
     "name": "stdout",
     "output_type": "stream",
     "text": [
      "Correct\n",
      "茗\n"
     ]
    },
    {
     "data": {
      "image/png": "[encoded data removed]",
      "text/plain": [
       "<Figure size 640x480 with 1 Axes>"
      ]
     },
     "metadata": {},
     "output_type": "display_data"
    }
   ],
   "source": [
    "n = 0\n",
    "plt.imshow(x_train[n].reshape(64,64))\n",
    "prediction = model(x_train[n].unsqueeze(0))\n",
    "kanji_prediction = kanji_dict[torch.argmax(prediction).item()]\n",
    "if y[n] == torch.argmax(prediction):\n",
    "    print(\"Correct\")\n",
    "else:\n",
    "    print(\"Wrong\")\n",
    "print(kanji_prediction)"
   ]
  },
  {
   "cell_type": "code",
   "execution_count": 28,
   "metadata": {},
   "outputs": [
    {
     "ename": "FileNotFoundError",
     "evalue": "[Errno 2] No such file or directory: '../canvas.png'",
     "output_type": "error",
     "traceback": [
      "\u001b[0;31m---------------------------------------------------------------------------\u001b[0m",
      "\u001b[0;31mFileNotFoundError\u001b[0m                         Traceback (most recent call last)",
      "\u001b[1;32m/Users/arymehr/Documents/CS Projects/Kanji-Recognition/Machine_Learning/machine_learning.ipynb Cell 19\u001b[0m in \u001b[0;36m1\n\u001b[1;32m      <a href='vscode-notebook-cell:/Users/arymehr/Documents/CS%20Projects/Kanji-Recognition/Machine_Learning/machine_learning.ipynb#X24sZmlsZQ%3D%3D?line=6'>7</a>\u001b[0m     img \u001b[39m=\u001b[39m torch\u001b[39m.\u001b[39mFloatTensor(img)\n\u001b[1;32m      <a href='vscode-notebook-cell:/Users/arymehr/Documents/CS%20Projects/Kanji-Recognition/Machine_Learning/machine_learning.ipynb#X24sZmlsZQ%3D%3D?line=7'>8</a>\u001b[0m     \u001b[39mreturn\u001b[39;00m img\n\u001b[0;32m---> <a href='vscode-notebook-cell:/Users/arymehr/Documents/CS%20Projects/Kanji-Recognition/Machine_Learning/machine_learning.ipynb#X24sZmlsZQ%3D%3D?line=10'>11</a>\u001b[0m test_img \u001b[39m=\u001b[39m process_screenshot(\u001b[39m'\u001b[39;49m\u001b[39m../canvas.png\u001b[39;49m\u001b[39m'\u001b[39;49m)\n\u001b[1;32m     <a href='vscode-notebook-cell:/Users/arymehr/Documents/CS%20Projects/Kanji-Recognition/Machine_Learning/machine_learning.ipynb#X24sZmlsZQ%3D%3D?line=11'>12</a>\u001b[0m plt\u001b[39m.\u001b[39mimshow(test_img[\u001b[39m0\u001b[39m])\n\u001b[1;32m     <a href='vscode-notebook-cell:/Users/arymehr/Documents/CS%20Projects/Kanji-Recognition/Machine_Learning/machine_learning.ipynb#X24sZmlsZQ%3D%3D?line=12'>13</a>\u001b[0m output \u001b[39m=\u001b[39m model(test_img\u001b[39m.\u001b[39munsqueeze(\u001b[39m0\u001b[39m))\n",
      "\u001b[1;32m/Users/arymehr/Documents/CS Projects/Kanji-Recognition/Machine_Learning/machine_learning.ipynb Cell 19\u001b[0m in \u001b[0;36m2\n\u001b[1;32m      <a href='vscode-notebook-cell:/Users/arymehr/Documents/CS%20Projects/Kanji-Recognition/Machine_Learning/machine_learning.ipynb#X24sZmlsZQ%3D%3D?line=0'>1</a>\u001b[0m \u001b[39mdef\u001b[39;00m \u001b[39mprocess_screenshot\u001b[39m(path):\n\u001b[0;32m----> <a href='vscode-notebook-cell:/Users/arymehr/Documents/CS%20Projects/Kanji-Recognition/Machine_Learning/machine_learning.ipynb#X24sZmlsZQ%3D%3D?line=1'>2</a>\u001b[0m     \u001b[39mwith\u001b[39;00m Image\u001b[39m.\u001b[39;49mopen(path)\u001b[39m.\u001b[39mconvert(\u001b[39m'\u001b[39m\u001b[39mL\u001b[39m\u001b[39m'\u001b[39m) \u001b[39mas\u001b[39;00m img:\n\u001b[1;32m      <a href='vscode-notebook-cell:/Users/arymehr/Documents/CS%20Projects/Kanji-Recognition/Machine_Learning/machine_learning.ipynb#X24sZmlsZQ%3D%3D?line=2'>3</a>\u001b[0m         img \u001b[39m=\u001b[39m img\u001b[39m.\u001b[39mresize((\u001b[39m64\u001b[39m,\u001b[39m64\u001b[39m))\n\u001b[1;32m      <a href='vscode-notebook-cell:/Users/arymehr/Documents/CS%20Projects/Kanji-Recognition/Machine_Learning/machine_learning.ipynb#X24sZmlsZQ%3D%3D?line=3'>4</a>\u001b[0m         img \u001b[39m=\u001b[39m PIL\u001b[39m.\u001b[39mImageOps\u001b[39m.\u001b[39minvert(img)\n",
      "File \u001b[0;32m~/Library/Python/3.9/lib/python/site-packages/PIL/Image.py:3092\u001b[0m, in \u001b[0;36mopen\u001b[0;34m(fp, mode, formats)\u001b[0m\n\u001b[1;32m   3089\u001b[0m     filename \u001b[39m=\u001b[39m fp\n\u001b[1;32m   3091\u001b[0m \u001b[39mif\u001b[39;00m filename:\n\u001b[0;32m-> 3092\u001b[0m     fp \u001b[39m=\u001b[39m builtins\u001b[39m.\u001b[39;49mopen(filename, \u001b[39m\"\u001b[39;49m\u001b[39mrb\u001b[39;49m\u001b[39m\"\u001b[39;49m)\n\u001b[1;32m   3093\u001b[0m     exclusive_fp \u001b[39m=\u001b[39m \u001b[39mTrue\u001b[39;00m\n\u001b[1;32m   3095\u001b[0m \u001b[39mtry\u001b[39;00m:\n",
      "\u001b[0;31mFileNotFoundError\u001b[0m: [Errno 2] No such file or directory: '../canvas.png'"
     ]
    }
   ],
   "source": [
    "def process_screenshot(path):\n",
    "    with Image.open(path).convert('L') as img:\n",
    "        img = img.resize((64,64))\n",
    "        img = PIL.ImageOps.invert(img)\n",
    "        img = img.point( lambda p: 255 if p > 30 else 0 )\n",
    "    img = np.expand_dims(np.array(img), 0)\n",
    "    img = torch.FloatTensor(img)\n",
    "    return img\n",
    "    \n",
    "    \n",
    "test_img = process_screenshot('../canvas.png')\n",
    "plt.imshow(test_img[0])\n",
    "output = model(test_img.unsqueeze(0))\n",
    "prediction = torch.argmax(output)\n",
    "prediction = kanji_dict[prediction.item()]\n",
    "print(f'prediction: {prediction}')\n",
    "if prediction == kanji_dict[int(n/num_samples_each_img)]:\n",
    "    print('correct!')\n",
    "else:\n",
    "    print('wrong')"
   ]
  }
 ],
 "metadata": {
  "kernelspec": {
   "display_name": "Python 3",
   "language": "python",
   "name": "python3"
  },
  "language_info": {
   "codemirror_mode": {
    "name": "ipython",
    "version": 3
   },
   "file_extension": ".py",
   "mimetype": "text/x-python",
   "name": "python",
   "nbconvert_exporter": "python",
   "pygments_lexer": "ipython3",
   "version": "3.9.6"
  },
  "orig_nbformat": 4
 },
 "nbformat": 4,
 "nbformat_minor": 2
}
