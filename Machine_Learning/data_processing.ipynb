{
 "cells": [
  {
   "cell_type": "code",
   "execution_count": 13,
   "metadata": {},
   "outputs": [],
   "source": [
    "from svglib.svglib import svg2rlg\n",
    "from reportlab.graphics import renderPDF, renderPM\n",
    "import os\n",
    "import xml.etree.ElementTree as ET\n",
    "import shutil"
   ]
  },
  {
   "cell_type": "code",
   "execution_count": 14,
   "metadata": {},
   "outputs": [],
   "source": [
    "clear_stroke_orders = False\n",
    "create_training_data = True\n",
    "move_files = False"
   ]
  },
  {
   "attachments": {},
   "cell_type": "markdown",
   "metadata": {},
   "source": [
    "## Removing all stroke orders"
   ]
  },
  {
   "cell_type": "code",
   "execution_count": 15,
   "metadata": {},
   "outputs": [],
   "source": [
    "def remove_stroke_order_graphic(file):\n",
    "    with open(file, 'r') as f:\n",
    "        text = f.read()\n",
    "        idx = text.rfind('<g')\n",
    "        removed_stroke_order_xml = text.replace(text[idx:-7], '')\n",
    "\n",
    "    with open(file, 'w') as f:\n",
    "        f.write(removed_stroke_order_xml)"
   ]
  },
  {
   "cell_type": "code",
   "execution_count": 16,
   "metadata": {},
   "outputs": [],
   "source": [
    "if clear_stroke_orders:\n",
    "    filenames = os.listdir('kanji')\n",
    "    for file in filenames:\n",
    "        remove_stroke_order_graphic(f'kanji/{file}')"
   ]
  },
  {
   "attachments": {},
   "cell_type": "markdown",
   "metadata": {},
   "source": [
    "## Creating training data"
   ]
  },
  {
   "cell_type": "code",
   "execution_count": 17,
   "metadata": {},
   "outputs": [],
   "source": [
    "def create_png(svg):\n",
    "    with open(svg, 'r') as f:\n",
    "        xml = f.read()\n",
    "    root = ET.fromstring(xml)\n",
    "    kanji_char = root[0][0].attrib['{http://kanjivg.tagaini.net}element']\n",
    "    drawing = svg2rlg(svg)\n",
    "    renderPM.drawToFile(drawing, f\"data/{kanji_char}.png\", fmt=\"PNG\")"
   ]
  },
  {
   "cell_type": "code",
   "execution_count": 18,
   "metadata": {},
   "outputs": [],
   "source": [
    "if create_training_data:\n",
    "    for kanji in os.listdir('kanji'):\n",
    "        create_png(f'kanji/{kanji}')"
   ]
  },
  {
   "attachments": {},
   "cell_type": "markdown",
   "metadata": {},
   "source": [
    "## Place each image in its own folder"
   ]
  },
  {
   "cell_type": "code",
   "execution_count": 19,
   "metadata": {},
   "outputs": [],
   "source": [
    "if move_files:\n",
    "    for kanji in os.listdir('data'):\n",
    "        os.mkdir(f\"data/{kanji.strip('.png')}\")\n",
    "        shutil.move(f\"data/{kanji}\", f\"data/{kanji.strip('.png')}/{kanji}\")\n",
    "        for i in range(0):\n",
    "            shutil.copy(f\"data/{kanji.strip('.png')}/{kanji}\", f\"data/{kanji.strip('.png')}/{i}{kanji}\")"
   ]
  }
 ],
 "metadata": {
  "kernelspec": {
   "display_name": "Python 3",
   "language": "python",
   "name": "python3"
  },
  "language_info": {
   "codemirror_mode": {
    "name": "ipython",
    "version": 3
   },
   "file_extension": ".py",
   "mimetype": "text/x-python",
   "name": "python",
   "nbconvert_exporter": "python",
   "pygments_lexer": "ipython3",
   "version": "3.10.6"
  },
  "orig_nbformat": 4
 },
 "nbformat": 4,
 "nbformat_minor": 2
}
